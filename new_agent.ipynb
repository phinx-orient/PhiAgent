{
 "cells": [
  {
   "cell_type": "markdown",
   "metadata": {},
   "source": [
    "# PhiAgent"
   ]
  },
  {
   "cell_type": "code",
   "execution_count": 2,
   "metadata": {},
   "outputs": [],
   "source": [
    "from agent.PhiAgent import PhiAgent\n",
    "import datetime\n",
    "from typing import List, Optional\n",
    "from system_prompt import DEFAULT_SYSTEM_PROMPT\n",
    "from llama_index.core.tools import FunctionTool\n",
    "from web_search import (\n",
    "    get_page_content,\n",
    "    process_search_results,\n",
    ")\n",
    "from agent.PhiAgent import ResponseStreamEvent, ToolStreamEvent\n",
    "from get_llm import get_llm, get_llm_azure\n",
    "\n",
    "\n",
    "web_search_tool = FunctionTool.from_defaults(\n",
    "    fn=process_search_results,\n",
    "    name=\"web_search_tool\",\n",
    "    description=(\n",
    "        f\"Used to retrieve information about up-to-date information in {str(datetime.datetime.now().date())}, \\\n",
    "            website or the information out of LLM's knowledge.\"\n",
    "    ),\n",
    ")\n",
    "\n",
    "web_fetch_tool = FunctionTool.from_defaults(\n",
    "    fn=get_page_content,\n",
    "    name=\"web_fetch_tool\",\n",
    "    description=\"Used to fetch information of specific url\",\n",
    ")\n",
    "\n",
    "tools = [web_fetch_tool, web_search_tool]\n"
   ]
  },
  {
   "cell_type": "code",
   "execution_count": 4,
   "metadata": {},
   "outputs": [],
   "source": [
    "DEFAULT_SYSTEM_PROMPT_WITH_TIME = DEFAULT_SYSTEM_PROMPT.format(\n",
    "    date=str(datetime.datetime.now().date())\n",
    ")\n",
    "model_name = \"gpt-4o-mini\"\n",
    "\n",
    "\n",
    "def run_agent(\n",
    "    model_name: str,\n",
    "    system_prompt: str,\n",
    "    tools: Optional[List] = None,\n",
    "    history: Optional[List] = None,\n",
    "):\n",
    "    if model_name in [\"gpt-4o-mini\", \"gpt-4-turbo\", \"gpt-4\"]:\n",
    "        agent = PhiAgent(\n",
    "            tools=tools,\n",
    "            system_prompt=system_prompt,\n",
    "            # chat_history=history,\n",
    "            llm=get_llm_azure(),\n",
    "            verbose=False,\n",
    "            timeout=60,\n",
    "        )\n",
    "    return agent\n",
    "\n",
    "\n",
    "# agent.reset()\n",
    "agent = run_agent(\n",
    "    model_name=model_name,\n",
    "    system_prompt=DEFAULT_SYSTEM_PROMPT_WITH_TIME,\n",
    "    tools=tools,\n",
    "    history=None,\n",
    ")\n"
   ]
  },
  {
   "cell_type": "code",
   "execution_count": 7,
   "metadata": {},
   "outputs": [
    {
     "name": "stdout",
     "output_type": "stream",
     "text": [
      "**Reasoning:**\n",
      "[ToolSelection(tool_id='call_NKCHuruqUjh8R7gTMesPCylF', tool_name='web_search_tool', tool_kwargs={'input': 'T1 vs BLG latest match result November 2024'})]\n",
      "sub question: ['T1 vs BLG latest match result November 2024']\n",
      "**Reasoning:**\n",
      "[ToolSelection(tool_id='call_OlyhZMgQixeI5usgHC3WlAH6', tool_name='web_fetch_tool', tool_kwargs={'input': 'https://www.gameleap.com/articles/worlds-2024-grand-final-t1-vs-blg-match-results'}), ToolSelection(tool_id='call_PYnOZHcM3peTPTOrMaIOo86q', tool_name='web_fetch_tool', tool_kwargs={'input': 'https://www.sportskeeda.com/esports/t1-vs-bilibili-gaming-league-legends-worlds-2024-grand-final-prediction-livestream-details'}), ToolSelection(tool_id='call_2lrp4qhjD5G1WBImxHGUoZYO', tool_name='web_fetch_tool', tool_kwargs={'input': 'https://scores24.live/en/lol/m-12-05-2024-bilibili-gaming-t1'})]\n",
      "The latest match between T1 and Bilibili Gaming (BLG) occurred on **November 2, 2024**, during the **2024 League of Legends World Championship Grand Final**. T1 won the match with a score of **3-2**. Here’s a summary of the games:\n",
      "\n",
      "- **Game 1**: T1 lost to BLG (0-1)\n",
      "- **Game 2**: T1 won against BLG (1-1)\n",
      "- **Game 3**: T1 lost to BLG (1-2)\n",
      "- **Game 4**: T1 won against BLG (2-2)\n",
      "- **Game 5**: T1 won against BLG (3-2)\n",
      "\n",
      "This victory secured T1's fifth World Championship title, demonstrating their ability to come back from a series deficit. The match was highly competitive, showcasing exceptional skill and strategy from both teams."
     ]
    }
   ],
   "source": [
    "input = \"kết quả trận T1 vs BLG mới nhất\"\n",
    "handler = agent.run(input=input, timeout=60)\n",
    "\n",
    "async for ev in handler.stream_events():\n",
    "    if isinstance(ev, ToolStreamEvent):\n",
    "        print(\"**Reasoning:**\")\n",
    "        print(ev.text)\n",
    "    elif isinstance(ev, ResponseStreamEvent):\n",
    "        print(ev.text, end=\"\")\n"
   ]
  }
 ],
 "metadata": {
  "kernelspec": {
   "display_name": "neurond",
   "language": "python",
   "name": "python3"
  },
  "language_info": {
   "codemirror_mode": {
    "name": "ipython",
    "version": 3
   },
   "file_extension": ".py",
   "mimetype": "text/x-python",
   "name": "python",
   "nbconvert_exporter": "python",
   "pygments_lexer": "ipython3",
   "version": "3.9.20"
  }
 },
 "nbformat": 4,
 "nbformat_minor": 2
}
